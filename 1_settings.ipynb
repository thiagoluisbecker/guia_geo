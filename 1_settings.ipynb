{
 "cells": [
  {
   "cell_type": "code",
   "execution_count": 1,
   "metadata": {},
   "outputs": [
    {
     "name": "stdout",
     "output_type": "stream",
     "text": [
      "\n",
      "\u001b[1m[\u001b[0m\u001b[34;49mnotice\u001b[0m\u001b[1;39;49m]\u001b[0m\u001b[39;49m A new release of pip is available: \u001b[0m\u001b[31;49m24.3.1\u001b[0m\u001b[39;49m -> \u001b[0m\u001b[32;49m25.1.1\u001b[0m\n",
      "\u001b[1m[\u001b[0m\u001b[34;49mnotice\u001b[0m\u001b[1;39;49m]\u001b[0m\u001b[39;49m To update, run: \u001b[0m\u001b[32;49mpip install --upgrade pip\u001b[0m\n"
     ]
    },
    {
     "name": "stderr",
     "output_type": "stream",
     "text": [
      "Downloading...\n",
      "From (original): https://drive.google.com/uc?id=1J_xX67KyPMur5viXW_St22T1GbvmphjE\n",
      "From (redirected): https://drive.google.com/uc?id=1J_xX67KyPMur5viXW_St22T1GbvmphjE&confirm=t&uuid=bf188ee3-4aa0-4e53-98e6-16ceed67eb4a\n",
      "To: /home/becker/Documentos/GitHub/guia_geo/datasets.zip\n",
      "100%|██████████| 1.29G/1.29G [03:52<00:00, 5.52MB/s]\n"
     ]
    },
    {
     "name": "stdout",
     "output_type": "stream",
     "text": [
      "Download e extração concluídos.\n"
     ]
    }
   ],
   "source": [
    "!pip install -q gdown\n",
    "\n",
    "import gdown\n",
    "import zipfile\n",
    "file_id = \"1J_xX67KyPMur5viXW_St22T1GbvmphjE\"\n",
    "output = \"datasets.zip\"\n",
    "\n",
    "gdown.download(id=file_id, output=output, quiet=False)\n",
    "\n",
    "with zipfile.ZipFile(output, 'r') as zip_ref:\n",
    "    zip_ref.extractall(\".\") \n",
    "\n",
    "print(\"Download e extração concluídos.\")\n"
   ]
  }
 ],
 "metadata": {
  "kernelspec": {
   "display_name": "venv",
   "language": "python",
   "name": "python3"
  },
  "language_info": {
   "codemirror_mode": {
    "name": "ipython",
    "version": 3
   },
   "file_extension": ".py",
   "mimetype": "text/x-python",
   "name": "python",
   "nbconvert_exporter": "python",
   "pygments_lexer": "ipython3",
   "version": "3.13.2"
  }
 },
 "nbformat": 4,
 "nbformat_minor": 2
}
