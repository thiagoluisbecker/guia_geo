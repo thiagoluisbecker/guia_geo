{
 "cells": [
  {
   "cell_type": "markdown",
   "metadata": {},
   "source": [
    "> **Instruções importantes**\n",
    "\n",
    "Clique na célula abaixo e execute-a pressionando **Shift + Enter**, ou navegando até o menu **Run → Run Selected Cell**.\n",
    "\n",
    "Essa célula pode levar alguns minutos para ser executada, pois realiza o download da pasta `datasets`, com aproximadamente **1,29 GB** de dados. ⚠️ \n"
   ]
  },
  {
   "cell_type": "code",
   "execution_count": 2,
   "metadata": {},
   "outputs": [
    {
     "name": "stdout",
     "output_type": "stream",
     "text": [
      "\n",
      "\u001b[1m[\u001b[0m\u001b[34;49mnotice\u001b[0m\u001b[1;39;49m]\u001b[0m\u001b[39;49m A new release of pip is available: \u001b[0m\u001b[31;49m24.3.1\u001b[0m\u001b[39;49m -> \u001b[0m\u001b[32;49m25.1.1\u001b[0m\n",
      "\u001b[1m[\u001b[0m\u001b[34;49mnotice\u001b[0m\u001b[1;39;49m]\u001b[0m\u001b[39;49m To update, run: \u001b[0m\u001b[32;49mpip install --upgrade pip\u001b[0m\n"
     ]
    },
    {
     "name": "stderr",
     "output_type": "stream",
     "text": [
      "Downloading...\n",
      "From (original): https://drive.google.com/uc?id=1J_xX67KyPMur5viXW_St22T1GbvmphjE\n",
      "From (redirected): https://drive.google.com/uc?id=1J_xX67KyPMur5viXW_St22T1GbvmphjE&confirm=t&uuid=6eac60ef-755e-4153-b3de-0a9e052d8601\n",
      "To: /home/becker/Documentos/GitHub/guia_geo/datasets.zip\n",
      "100%|██████████| 1.29G/1.29G [05:15<00:00, 4.07MB/s]\n"
     ]
    },
    {
     "name": "stdout",
     "output_type": "stream",
     "text": [
      "Download de datasets e dependencias concluído.\n"
     ]
    }
   ],
   "source": [
    "!pip -q install -r requirements.txt\n",
    "\n",
    "import gdown\n",
    "import zipfile\n",
    "file_id = \"1J_xX67KyPMur5viXW_St22T1GbvmphjE\"\n",
    "output = \"datasets.zip\"\n",
    "\n",
    "gdown.download(id=file_id, output=output, quiet=False)\n",
    "\n",
    "with zipfile.ZipFile(output, 'r') as zip_ref:\n",
    "    zip_ref.extractall(\".\") \n",
    "\n",
    "\n",
    "\n",
    "print(\"Download de datasets e dependencias concluído.\")\n"
   ]
  }
 ],
 "metadata": {
  "kernelspec": {
   "display_name": "venv",
   "language": "python",
   "name": "python3"
  },
  "language_info": {
   "codemirror_mode": {
    "name": "ipython",
    "version": 3
   },
   "file_extension": ".py",
   "mimetype": "text/x-python",
   "name": "python",
   "nbconvert_exporter": "python",
   "pygments_lexer": "ipython3",
   "version": "3.13.2"
  }
 },
 "nbformat": 4,
 "nbformat_minor": 2
}
