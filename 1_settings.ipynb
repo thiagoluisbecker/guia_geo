{
 "cells": [
  {
   "cell_type": "markdown",
   "metadata": {},
   "source": [
    "> **Instruções importantes**\n",
    "\n",
    "Clique na célula abaixo e execute-a pressionando **Shift + Enter**, ou navegando até o menu **Run → Run Selected Cell**.\n",
    "\n",
    "⚠️ Essa célula pode levar alguns minutos para ser executada, pois realiza o download da pasta `datasets`, com aproximadamente **1,29 GB** de dados.\n"
   ]
  },
  {
   "cell_type": "code",
   "execution_count": 1,
   "metadata": {},
   "outputs": [
    {
     "name": "stderr",
     "output_type": "stream",
     "text": [
      "\n",
      "[notice] A new release of pip is available: 23.2.1 -> 25.1.1\n",
      "[notice] To update, run: python.exe -m pip install --upgrade pip\n",
      "Downloading...\n",
      "From (original): https://drive.google.com/uc?id=1J_xX67KyPMur5viXW_St22T1GbvmphjE\n",
      "From (redirected): https://drive.google.com/uc?id=1J_xX67KyPMur5viXW_St22T1GbvmphjE&confirm=t&uuid=90193a1b-44d0-4e75-af29-e804acda0b3d\n",
      "To: c:\\Users\\PC\\Documents\\GitHub\\guia_geo\\guia_geo\\datasets.zip\n",
      "100%|██████████| 1.29G/1.29G [01:01<00:00, 20.8MB/s]\n"
     ]
    },
    {
     "name": "stdout",
     "output_type": "stream",
     "text": [
      "Download e extração concluídos.\n"
     ]
    }
   ],
   "source": [
    "!pip -q install -r requirements.txt\n",
    "import gdown\n",
    "import zipfile\n",
    "file_id = \"1J_xX67KyPMur5viXW_St22T1GbvmphjE\"\n",
    "output = \"datasets.zip\"\n",
    "\n",
    "gdown.download(id=file_id, output=output, quiet=False)\n",
    "\n",
    "with zipfile.ZipFile(output, 'r') as zip_ref:\n",
    "    zip_ref.extractall(\".\") \n",
    "\n",
    "print(\"Download e extração concluídos.\")\n"
   ]
  },
  {
   "cell_type": "code",
   "execution_count": 2,
   "metadata": {},
   "outputs": [
    {
     "name": "stderr",
     "output_type": "stream",
     "text": [
      "c:\\Users\\PC\\AppData\\Local\\Programs\\Python\\Python311\\Lib\\site-packages\\nbformat\\__init__.py:132: MissingIDFieldWarning: Cell is missing an id field, this will become a hard error in future nbformat versions. You may want to use `normalize()` on your notebooks before validations (available since nbformat 5.1.4). Previous versions of nbformat are fixing this issue transparently, and will stop doing so in the future.\n",
      "  validate(nb)\n"
     ]
    },
    {
     "name": "stdout",
     "output_type": "stream",
     "text": [
      "Notebook 'guia.ipynb' criado com sucesso.\n"
     ]
    }
   ],
   "source": [
    "import nbformat\n",
    "\n",
    "arquivos = [\n",
    "    \"1_settings.ipynb\",\n",
    "    \"2geo_data_types.ipynb\",\n",
    "    \"3Processing.ipynb\",\n",
    "    \"4Vis_v.ipynb\"\n",
    "]\n",
    "\n",
    "notebook_final = nbformat.v4.new_notebook()\n",
    "\n",
    "for arquivo in arquivos:\n",
    "    with open(arquivo, \"r\", encoding=\"utf-8\") as f:\n",
    "        nb = nbformat.read(f, as_version=4)\n",
    "        notebook_final.cells.extend(nb.cells)\n",
    "\n",
    "with open(\"guia.ipynb\", \"w\", encoding=\"utf-8\") as f:\n",
    "    nbformat.write(notebook_final, f)\n",
    "\n",
    "print(\"Notebook 'guia.ipynb' criado com sucesso.\")\n"
   ]
  }
 ],
 "metadata": {
  "kernelspec": {
   "display_name": "Python 3",
   "language": "python",
   "name": "python3"
  },
  "language_info": {
   "codemirror_mode": {
    "name": "ipython",
    "version": 3
   },
   "file_extension": ".py",
   "mimetype": "text/x-python",
   "name": "python",
   "nbconvert_exporter": "python",
   "pygments_lexer": "ipython3",
   "version": "3.11.6"
  }
 },
 "nbformat": 4,
 "nbformat_minor": 2
}
