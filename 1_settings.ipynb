{
 "cells": [
  {
   "cell_type": "code",
   "execution_count": 1,
   "metadata": {},
   "outputs": [
    {
     "name": "stderr",
     "output_type": "stream",
     "text": [
      "\n",
      "[notice] A new release of pip is available: 23.2.1 -> 25.1.1\n",
      "[notice] To update, run: python.exe -m pip install --upgrade pip\n",
      "Downloading...\n",
      "From (original): https://drive.google.com/uc?id=1J_xX67KyPMur5viXW_St22T1GbvmphjE\n",
      "From (redirected): https://drive.google.com/uc?id=1J_xX67KyPMur5viXW_St22T1GbvmphjE&confirm=t&uuid=b5187a37-e58d-4cbe-a7e5-3f0d5bc028d8\n",
      "To: c:\\Users\\PC\\Documents\\GitHub\\guia_geo\\guia_geo\\datasets.zip\n",
      "100%|██████████| 1.29G/1.29G [01:01<00:00, 21.0MB/s]\n"
     ]
    },
    {
     "name": "stdout",
     "output_type": "stream",
     "text": [
      "Download e extração concluídos.\n"
     ]
    }
   ],
   "source": [
    "!pip install -q gdown\n",
    "\n",
    "import gdown\n",
    "import zipfile\n",
    "file_id = \"1J_xX67KyPMur5viXW_St22T1GbvmphjE\"\n",
    "output = \"datasets.zip\"\n",
    "\n",
    "gdown.download(id=file_id, output=output, quiet=False)\n",
    "\n",
    "with zipfile.ZipFile(output, 'r') as zip_ref:\n",
    "    zip_ref.extractall(\".\") \n",
    "\n",
    "print(\"Download e extração concluídos.\")\n"
   ]
  }
 ],
 "metadata": {
  "kernelspec": {
   "display_name": "Python 3",
   "language": "python",
   "name": "python3"
  },
  "language_info": {
   "codemirror_mode": {
    "name": "ipython",
    "version": 3
   },
   "file_extension": ".py",
   "mimetype": "text/x-python",
   "name": "python",
   "nbconvert_exporter": "python",
   "pygments_lexer": "ipython3",
   "version": "3.11.6"
  }
 },
 "nbformat": 4,
 "nbformat_minor": 2
}
