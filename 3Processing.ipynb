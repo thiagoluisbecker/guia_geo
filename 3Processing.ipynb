{
 "cells": [
  {
   "cell_type": "markdown",
   "id": "8423fb76",
   "metadata": {},
   "source": [
    "# 3. Processamento e Pré-processamento de Dados Geoespaciais\n",
    "Nesta seção, vamos explorar operações fundamentais de pré-processamento de dados geoespaciais, essenciais para preparar os dados para análises e modelagens mais avançadas. Cada tópico será acompanhado de uma aplicação prática."
   ]
  },
  {
   "cell_type": "markdown",
   "id": "95bb7c6c",
   "metadata": {},
   "source": [
    "### 3.1 Geocoding e Geocoding Reverso\n",
    "O geocoding é o processo de converter um endereço (como \"Cristo Redentor, Rio de Janeiro\") em coordenadas geográficas (latitude e longitude). Já o geocoding reverso realiza o caminho oposto: ele transforma coordenadas em um endereço textual."
   ]
  },
  {
   "cell_type": "markdown",
   "id": "f58e5053",
   "metadata": {},
   "source": [
    "##### Geocoding: endereço -> coordenadas"
   ]
  },
  {
   "cell_type": "code",
   "execution_count": null,
   "id": "e82d8ceb",
   "metadata": {},
   "outputs": [],
   "source": [
    "from geopy.geocoders import Nominatim # Servico de Geocoding fornecido pelo OpenSteetMap\n",
    "\n",
    "geolocator = Nominatim(user_agent=\"geoapi\") # \n",
    "location = geolocator.geocode(\"Cristo Redentor, Rio de Janeiro\")\n",
    "\n",
    "print(\"Coordenadas do Cristo Redentor:\")\n",
    "print(f\"Latitude: {location.latitude}, Longitude: {location.longitude}\")\n"
   ]
  },
  {
   "cell_type": "markdown",
   "id": "158d7c25",
   "metadata": {},
   "source": [
    "#### Geocoding Reverso: coordenadas -> endereço"
   ]
  },
  {
   "cell_type": "code",
   "execution_count": null,
   "id": "9126b98c",
   "metadata": {},
   "outputs": [],
   "source": [
    "reverse_location = geolocator.reverse((location.latitude, location.longitude), language=\"pt\")\n",
    "print(\"\\nEndereço reverso aproximado:\")\n",
    "print(reverse_location.address)"
   ]
  },
  {
   "cell_type": "markdown",
   "id": "fad43a22",
   "metadata": {},
   "source": [
    "\n",
    "#### Depois de converter um endereço em coordenadas geográficas (geocoding),podemos plotar o ponto em mapa com `folium`."
   ]
  },
  {
   "cell_type": "code",
   "execution_count": null,
   "id": "5ac7e51b",
   "metadata": {},
   "outputs": [],
   "source": [
    "\n",
    "m = folium.Map(location=[location.latitude, location.longitude], zoom_start=15)\n",
    "folium.Marker([location.latitude, location.longitude], popup='Cristo Redentor').add_to(m)\n",
    "m"
   ]
  },
  {
   "cell_type": "markdown",
   "id": "c245395e",
   "metadata": {},
   "source": [
    "Nesta seção, vamos transformar endereços de imóveis em coordenadas geográficas (latitude/longitude), e utilizar esses dados para fazer análises espaciais de preços.\n",
    "\n",
    "O dataset contém informações sobre revenda de apartamentos públicos (HDB flats) em Singapura. Vamos:\n",
    "\n",
    "- 🧭 Geocodificar os endereços\n",
    "- 📍 Mapear os imóveis no espaço\n",
    "- 📊 Analisar a variação de preços por localização"
   ]
  },
  {
   "cell_type": "markdown",
   "id": "3dcc248c",
   "metadata": {},
   "source": [
    "Este script abaixo automatiza o geocoding de endereços no dataset de imóveis sg-resale-flat-prices-2017-onwards.csv, transformando cada endereço em coordenadas geográficas (latitude e longitude).\n",
    "\n",
    "Ele eh necessario pois como a API do OpenStreetMap limita 60 requisicoes por minuto, eh necessario pre-processar e criar o dataset em que faremos as analises.\n"
   ]
  },
  {
   "cell_type": "code",
   "execution_count": null,
   "id": "625a4a20",
   "metadata": {},
   "outputs": [],
   "source": [
    "import pandas as pd\n",
    "import time\n",
    "from geopy.geocoders import Nominatim\n",
    "from geopy.extra.rate_limiter import RateLimiter\n",
    "\n",
    "rodar = False\n",
    "if rodar:\n",
    "    # Carregar dataset original\n",
    "    df = pd.read_csv(\"datasets/Singapore/sg-resale-flat-prices-2017-onwards.csv\")\n",
    "    df[\"endereco\"] = df[\"block\"] + \" \" + df[\"street_name\"] + \", \" + df[\"town\"] + \", Singapore\"\n",
    "    \n",
    "    # Geocodificador\n",
    "    geolocator = Nominatim(user_agent=\"geoapi_sg_full\")\n",
    "    geocode = RateLimiter(geolocator.geocode, min_delay_seconds=1)\n",
    "    \n",
    "    # Tentar carregar resultados anteriores\n",
    "    try:\n",
    "        df_geo = pd.read_csv(\"datasets/Singapore/geocodificados.csv\")\n",
    "        processados = set(df_geo[\"endereco\"])\n",
    "        print(f\"Retomando, {len(processados)} endereços já processados.\")\n",
    "    except FileNotFoundError:\n",
    "        df_geo = pd.DataFrame()\n",
    "        processados = set()\n",
    "    \n",
    "    novos = []\n",
    "    batch_size = 50\n",
    "    pause_seconds = 60\n",
    "    \n",
    "    # Iniciar processamento por blocos\n",
    "    for i, row in df.iterrows():\n",
    "        endereco = row[\"endereco\"]\n",
    "        if endereco in processados:\n",
    "            continue\n",
    "        \n",
    "        try:\n",
    "            location = geocode(endereco)\n",
    "            lat = location.latitude if location else None\n",
    "            lon = location.longitude if location else None\n",
    "        except:\n",
    "            lat, lon = None, None\n",
    "    \n",
    "        # Copiar a linha original e adicionar coordenadas\n",
    "        nova_linha = row.copy()\n",
    "        nova_linha[\"latitude\"] = lat\n",
    "        nova_linha[\"longitude\"] = lon\n",
    "        novos.append(nova_linha)\n",
    "    \n",
    "        print(f\"{len(novos)} -> {endereco} => ({lat}, {lon})\")\n",
    "    \n",
    "        if len(novos) % batch_size == 0:\n",
    "            df_novos = pd.DataFrame(novos)\n",
    "            df_geo = pd.concat([df_geo, df_novos], ignore_index=True).drop_duplicates(subset=[\"endereco\"])\n",
    "            df_geo.to_csv(\"datasets/Singapore/geocodificados.csv\", index=False)\n",
    "            print(f\"📝 Salvo após {len(novos)} registros.\")\n",
    "            novos.clear()\n",
    "            print(f\"⏸️ Pausando por {pause_seconds} segundos...\")\n",
    "            time.sleep(pause_seconds)\n",
    "    \n",
    "    # Salvar o restante\n",
    "    if novos:\n",
    "        df_novos = pd.DataFrame(novos)\n",
    "        df_geo = pd.concat([df_geo, df_novos], ignore_index=True).drop_duplicates(subset=[\"endereco\"])\n",
    "        df_geo.to_csv(\"datasets/Singapore/geocodificados.csv\", index=False)\n",
    "        print(\"✅ Processamento finalizado.\")\n",
    "    "
   ]
  },
  {
   "cell_type": "code",
   "execution_count": null,
   "id": "f6a32851",
   "metadata": {},
   "outputs": [],
   "source": [
    "# Carregar os dados ja pre-processados \n",
    "df = pd.read_csv(\"datasets/Singapore/geocodificados.csv\")\n",
    "\n",
    "# Amostrar para testes rápidos\n",
    "df_amostra = df.sample(n=30, random_state=42).copy()\n",
    "df = df.dropna()"
   ]
  },
  {
   "cell_type": "markdown",
   "id": "dbace65e",
   "metadata": {},
   "source": [
    "####  Mapa Interativo: Distribuição Espacial dos Preços por m²\n",
    "\n",
    "Este mapa mostra a localização dos imóveis do programa HDB (Habitação Pública de Singapura) com base no dataset de revenda.\n",
    "\n",
    "Cada ponto representa um imóvel geocodificado, e sua **cor** reflete o **preço por metro quadrado (preço/m²)**, calculado como:\n",
    "\n",
    "Para classificar os imóveis, usamos uma abordagem **estatística baseada nos quartis**:\n",
    "\n",
    "| Faixa | Critério | Cor |\n",
    "|-------|----------|-----|\n",
    "| **Barato** | Preço/m² abaixo do 1º quartil (Q1) | 🟢 Verde |\n",
    "| **Na média** | Entre Q1 e Q3 (mediana) | 🟠 Laranja |\n",
    "| **Caro** | Acima do 3º quartil (Q3) | 🔴 Vermelho |"
   ]
  },
  {
   "cell_type": "code",
   "execution_count": null,
   "id": "63dff490",
   "metadata": {},
   "outputs": [],
   "source": [
    "import folium\n",
    "\n",
    "# Calcular o preço por m²\n",
    "df[\"preco_m2\"] = df[\"resale_price\"] / df[\"floor_area_sqm\"]\n",
    "\n",
    "# Calcular quartis\n",
    "q1 = df[\"preco_m2\"].quantile(0.25)\n",
    "q3 = df[\"preco_m2\"].quantile(0.75)\n",
    "\n",
    "# Função de cor baseada nos quartis\n",
    "def cor_por_preco_m2(valor):\n",
    "    if valor < q1:\n",
    "        return \"green\"\n",
    "    elif valor > q3:\n",
    "        return \"red\"\n",
    "    else:\n",
    "        return \"orange\"\n",
    "\n",
    "# Criar o mapa\n",
    "m = folium.Map(location=[1.3521, 103.8198], zoom_start=12, tiles=\"CartoDB positron\")\n",
    "\n",
    "# Adicionar marcadores com cores baseadas em preço/m²\n",
    "for _, row in df.iterrows():\n",
    "    preco_total = row[\"resale_price\"]\n",
    "    preco_m2 = row[\"preco_m2\"]\n",
    "    popup_text = (\n",
    "        f\"<b>Preço total:</b> ${preco_total:,.0f}<br>\"\n",
    "        f\"<b>Área:</b> {row['floor_area_sqm']} m²<br>\"\n",
    "        f\"<b>Preço/m²:</b> ${preco_m2:,.0f}<br>\"\n",
    "        f\"<b>Tipo:</b> {row['flat_type']}\"\n",
    "    )\n",
    "    folium.CircleMarker(\n",
    "        location=(row[\"latitude\"], row[\"longitude\"]),\n",
    "        radius=6,\n",
    "        color=cor_por_preco_m2(preco_m2),\n",
    "        fill=True,\n",
    "        fill_opacity=0.75,\n",
    "        popup=folium.Popup(popup_text, max_width=250)\n",
    "    ).add_to(m)\n",
    "\n",
    "print(f\"{len(df)} imóveis plotados com cores baseadas em preço/m².\")\n",
    "m\n"
   ]
  },
  {
   "cell_type": "markdown",
   "id": "56e98292",
   "metadata": {},
   "source": [
    "### ✅ Conclusão\n",
    "\n",
    "Com base apenas nos endereços textuais, conseguimos:\n",
    "\n",
    "- Localizar imóveis no mapa\n",
    "- Visualizar a distribuição espacial dos preços\n",
    "- Preparar os dados para análises como clusters, interpolações ou dashboards\n",
    "\n",
    "Isso mostra como a **geocodificação é uma ponte entre dados tradicionais e análises espaciais**.\n"
   ]
  },
  {
   "cell_type": "markdown",
   "id": "ac8a1949",
   "metadata": {},
   "source": [
    "### 3.2 Projeções Cartográficas\n",
    "\n",
    "Projeções cartográficas são transformações matemáticas que convertem a superfície curva da Terra (esferoide) em uma superfície plana (mapa). Como não é possível representar perfeitamente uma esfera em um plano, cada projeção faz **compromissos entre preservar forma, área, distância ou direção**.\n",
    "\n",
    "#### 🔍 Por que isso importa?\n",
    "\n",
    "Para muitas análises espaciais — como **cálculo de área, distância entre pontos, buffers e rotas** — é essencial que os dados estejam em uma **projeção apropriada**. A maioria dos dados geográficos brutos vem no sistema **WGS84** (EPSG:4326), que usa latitude e longitude (graus), mas não é adequado para medições métricas.\n",
    "\n",
    "#### 🌎 Exemplos de Projeções\n",
    "\n",
    "- **WGS84 (EPSG:4326)**: padrão global, usa graus. Bom para visualização, ruim para cálculos.\n",
    "- **UTM (Universal Transverse Mercator)**: divide o globo em zonas com projeção métrica, ideal para cálculos de distância e área em regiões menores.\n",
    "- **Albers Equal Area**: preserva área, útil para análise de distribuição espacial em grandes regiões.\n",
    "\n",
    "\n",
    "**Aplicação:** Transformar um dataset de coordenadas geográficas (WGS84) para projeção métrica (UTM), facilitando o cálculo de distâncias reais."
   ]
  },
  {
   "cell_type": "code",
   "execution_count": null,
   "id": "b5ff0ffd",
   "metadata": {},
   "outputs": [],
   "source": [
    "import geopandas as gpd\n",
    "\n",
    "# Carregando shapefile dos municípios do RJ\n",
    "shapefile_path = \"datasets/RJ_2023/RJ_Municipios_2023.shp\"\n",
    "gdf = gpd.read_file(shapefile_path)\n",
    "\n",
    "# Selecionar apenas um município (por exemplo, Rio de Janeiro)\n",
    "rio = gdf[gdf[\"NM_MUN\"] == \"Rio de Janeiro\"]\n",
    "\n",
    "# Calcular área no sistema WGS84 (em graus) – NÃO CONFIÁVEL!\n",
    "area_wgs84 = rio.geometry.area.iloc[0]\n",
    "\n",
    "# Agora convertemos para UTM zona 23S (projeção métrica adequada)\n",
    "rio_utm = rio.to_crs(epsg=31983)\n",
    "\n",
    "# Calcular área no sistema UTM (em metros quadrados) – CONFIÁVEL!\n",
    "area_utm = rio_utm.geometry.area.iloc[0]\n",
    "\n",
    "# Mostrar os resultados\n",
    "print(f\"Área no sistema WGS84 (graus²): {area_wgs84}\")\n",
    "print(f\"Área no sistema UTM (m²): {area_utm:,.2f}\")\n",
    "print(f\"Área no sistema UTM (km²): {area_utm/1e6:,.2f}\")\n"
   ]
  },
  {
   "cell_type": "markdown",
   "id": "ae3f64ac",
   "metadata": {},
   "source": [
    "#### ✅ Conclusão:\n",
    "- O valor em graus quadrados não tem interpretação prática direta — ele depende da curvatura da Terra e da latitude!\n",
    "\n",
    "- Já o valor em metros quadrados, obtido com uma projeção como UTM, é o que você precisa para:\n",
    "\n",
    "  - Calcular densidade populacional\n",
    "\n",
    "  - Estimar área útil de uma zona\n",
    "\n",
    "  - Fazer modelagem espacial confiável\n",
    "\n",
    "🔗 Se você errar a projeção, você compromete os resultados do modelo!"
   ]
  },
  {
   "cell_type": "markdown",
   "id": "b08c7c65",
   "metadata": {},
   "source": [
    "### 3.3 Interseções de Camadas Geoespaciais\n",
    "\n",
    "Uma das operações mais poderosas em ciência de dados geoespaciais é a **interseção entre camadas (layers)**. Essa técnica permite responder a perguntas espaciais complexas, como:\n",
    "\n",
    "- 🏥 Quais hospitais estão em áreas de risco ambiental?\n",
    "- 🌳 Quais bairros têm escolas dentro de zonas verdes?\n",
    "- 🚨 Quais ocorrências policiais aconteceram dentro de determinada região?\n",
    "\n",
    "Essas respostas emergem ao **cruzar diferentes fontes de dados espaciais** — como a sobreposição de **pontos, linhas e polígonos** com camadas raster (como imagens de satélite ou dados climáticos).\n",
    "\n",
    "---\n",
    "\n",
    "#### ⚡ Substituição de Usinas Fósseis por Energia Solar: Análise Espacial\n",
    "\n",
    "Neste notebook, realizamos uma análise baseada em dados reais para avaliar o **potencial de substituição de usinas fósseis por energia solar no Brasil**.\n",
    "\n",
    "A lógica é:\n",
    "- Ver **onde as usinas fósseis estão localizadas**\n",
    "- Verificar se essas regiões têm **alto potencial solar (PVOUT)**\n",
    "- Calcular se seria **energeticamente viável substituir** a geração dessas usinas por usinas solares"
   ]
  },
  {
   "cell_type": "code",
   "execution_count": null,
   "id": "b18ebcd7",
   "metadata": {},
   "outputs": [],
   "source": [
    "import pandas as pd\n",
    "import geopandas as gpd\n",
    "import rasterio\n",
    "from shapely.geometry import Point\n",
    "import matplotlib.pyplot as plt\n",
    "\n",
    "# Carregar dados das usinas fósseis no Brasil\n",
    "usinas = pd.read_csv('datasets/solar_potential/globalpowerplantdatabasev130/global_power_plant_database.csv')\n",
    "usinas_br = usinas[(usinas.country_long == \"Brazil\") & \n",
    "                   (usinas.primary_fuel.isin([\"Coal\", \"Gas\", \"Oil\"]))]\n",
    "\n",
    "# Converter em GeoDataFrame\n",
    "geometry = [Point(xy) for xy in zip(usinas_br.longitude, usinas_br.latitude)]\n",
    "gdf = gpd.GeoDataFrame(usinas_br, geometry=geometry, crs=\"EPSG:4326\")\n",
    "\n",
    "# Carregar raster PVOUT\n",
    "raster = rasterio.open(\"datasets\\solar_potential\\World_PVOUT_GISdata_LTAy_AvgDailyTotals_GlobalSolarAtlas-v2_GEOTIFF\\World_PVOUT_GISdata_LTAy_DailySum_GlobalSolarAtlas_GEOTIFF\\PVOUT.tif\")\n",
    "\n",
    "# Extrair valores de PVOUT para cada usina\n",
    "coords = [(geom.x, geom.y) for geom in gdf.geometry]\n",
    "pvout_values = [val[0] for val in raster.sample(coords)]\n",
    "gdf[\"pvout\"] = pvout_values\n",
    "\n",
    "# Filtrar por alto potencial solar\n",
    "gdf_altas = gdf[gdf[\"pvout\"] > 4.6]  # limite ajustável\n",
    "print(gdf_altas.shape)\n",
    "print(gdf_altas.head())\n",
    "\n",
    "# Visualização\n",
    "fig, ax = plt.subplots(figsize=(10, 8))\n",
    "gdf.plot(ax=ax, color=\"gray\", label=\"Usinas fósseis\")\n",
    "gdf_altas.plot(ax=ax, color=\"orange\", label=\"Alto potencial solar\")\n",
    "plt.title(\"Usinas fósseis em regiões com alto potencial de energia solar (PVOUT)\")\n",
    "plt.legend()\n",
    "plt.grid(True)\n",
    "plt.show()"
   ]
  },
  {
   "cell_type": "markdown",
   "id": "0debc249",
   "metadata": {},
   "source": [
    "#### 3.4 Interpolação Espacial (Kriging)\n",
    "\n",
    "### 📌 O problema\n",
    "\n",
    "Imagine que você possui medições de temperatura do fundo do mar feitas por sensores em pontos esparsos. Você quer criar um **mapa contínuo** para visualizar a variação da temperatura ao longo de toda a região.\n",
    "\n",
    "Para isso, usamos **interpolação espacial** — uma técnica que estima valores em locais onde não há dados, com base na localização e valor dos pontos conhecidos.\n"
   ]
  },
  {
   "cell_type": "markdown",
   "id": "addfb77b",
   "metadata": {},
   "source": [
    "### 🔄 Comparando abordagens\n",
    "\n",
    "| Método | Como funciona | Limitações |\n",
    "|--------|----------------|-------------|\n",
    "| **IDW** (Inverse Distance Weighting) | A média ponderada dos pontos vizinhos, com pesos baseados na distância (“pontos mais próximos são mais parecidos”) | Não considera padrões espaciais complexos, só a distância |\n",
    "| **Kriging** | Ajusta um modelo estatístico (variograma) para estimar valores com base na **estrutura espacial do dado** | Mais complexo, exige ajuste de modelo e interpretação mais técnica |\n"
   ]
  },
  {
   "cell_type": "markdown",
   "id": "7bfb6d83",
   "metadata": {},
   "source": [
    "### 🧠 O que é o Kriging?\n",
    "\n",
    "Kriging é uma técnica de interpolação **baseada em modelos estatísticos** que incorporam:\n",
    "\n",
    "- A **distância** entre os pontos\n",
    "- A **variabilidade dos dados**\n",
    "- A **direção ou tendência** dos dados (em versões mais avançadas)\n",
    "\n",
    "Ideal para fenômenos naturais como temperatura, poluição, teor de minério, etc.\n"
   ]
  },
  {
   "cell_type": "code",
   "execution_count": null,
   "id": "f16e1136",
   "metadata": {},
   "outputs": [],
   "source": [
    "from pykrige.ok import OrdinaryKriging\n",
    "from scipy.interpolate import griddata\n",
    "# Recarregar o CSV pulando a linha com as unidades\n",
    "df = pd.read_csv(\"datasets/temp_sea_bottom/northeast_atlatic_sea_bottom_temp.csv\")\n",
    "# Garantir conversão correta para tipos numéricos\n",
    "df[\"latitude\"] = pd.to_numeric(df[\"latitude\"], errors=\"coerce\")\n",
    "df[\"longitude\"] = pd.to_numeric(df[\"longitude\"], errors=\"coerce\")\n",
    "df[\"sea_bottom_temperature\"] = pd.to_numeric(df[\"sea_bottom_temperature\"], errors=\"coerce\")\n",
    "\n",
    "# Remover linhas com valores faltantes\n",
    "df = df.dropna(subset=[\"latitude\", \"longitude\", \"sea_bottom_temperature\"])\n",
    "\n",
    "# Exibir preview\n",
    "df.head()\n"
   ]
  },
  {
   "cell_type": "code",
   "execution_count": null,
   "id": "86805cfd",
   "metadata": {},
   "outputs": [],
   "source": [
    "\n",
    "# Amostrar 500 pontos para agilizar a krigagem\n",
    "df_sample = df.sample(n=1000, random_state=42)\n",
    "\n",
    "# Extrair variáveis\n",
    "x = df_sample[\"longitude\"].values\n",
    "y = df_sample[\"latitude\"].values\n",
    "z = df_sample[\"sea_bottom_temperature\"].values\n"
   ]
  },
  {
   "cell_type": "code",
   "execution_count": null,
   "id": "33af46a6",
   "metadata": {},
   "outputs": [],
   "source": [
    "# Interpolação com IDW usando griddata\n",
    "grid_x, grid_y = np.meshgrid(\n",
    "    np.linspace(x.min(), x.max(), 100),\n",
    "    np.linspace(y.min(), y.max(), 100)\n",
    ")\n",
    "\n",
    "zi_idw = griddata((x, y), z, (grid_x, grid_y), method='linear')\n"
   ]
  },
  {
   "cell_type": "code",
   "execution_count": null,
   "id": "35266e98",
   "metadata": {},
   "outputs": [],
   "source": [
    "# Interpolação com Kriging\n",
    "OK = OrdinaryKriging(x, y, z, variogram_model='linear', verbose=False, enable_plotting=False)\n",
    "zi_krig, _ = OK.execute(\"grid\", grid_x[0], grid_y[:, 0])\n"
   ]
  },
  {
   "cell_type": "code",
   "execution_count": null,
   "id": "e19efa97",
   "metadata": {},
   "outputs": [],
   "source": [
    "# Comparação visual\n",
    "fig, axs = plt.subplots(1, 2, figsize=(18, 7))\n",
    "\n",
    "# IDW\n",
    "im1 = axs[0].imshow(zi_idw, extent=(x.min(), x.max(), y.min(), y.max()), origin='lower', cmap='coolwarm')\n",
    "axs[0].set_title(\"Interpolação por IDW\")\n",
    "axs[0].scatter(x, y, c=z, edgecolors='k', s=10)\n",
    "plt.colorbar(im1, ax=axs[0], label=\"Temperatura (°C)\")\n",
    "\n",
    "# Kriging\n",
    "im2 = axs[1].imshow(zi_krig, extent=(x.min(), x.max(), y.min(), y.max()), origin='lower', cmap='coolwarm')\n",
    "axs[1].set_title(\"Interpolação por Kriging\")\n",
    "axs[1].scatter(x, y, c=z, edgecolors='k', s=10)\n",
    "plt.colorbar(im2, ax=axs[1], label=\"Temperatura (°C)\")\n",
    "\n",
    "plt.suptitle(\"Comparação: IDW vs Kriging\", fontsize=16)\n",
    "plt.tight_layout()\n",
    "plt.show()\n"
   ]
  }
 ],
 "metadata": {
  "language_info": {
   "name": "python"
  }
 },
 "nbformat": 4,
 "nbformat_minor": 5
}
