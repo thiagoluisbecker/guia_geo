{
 "cells": [
  {
   "cell_type": "code",
   "execution_count": 5,
   "id": "ded28705",
   "metadata": {},
   "outputs": [
    {
     "name": "stdout",
     "output_type": "stream",
     "text": [
      "Requirement already satisfied: geopandas in c:\\users\\pc\\appdata\\local\\programs\\python\\python311\\lib\\site-packages (1.0.1)\n",
      "Requirement already satisfied: scikit-learn in c:\\users\\pc\\appdata\\local\\programs\\python\\python311\\lib\\site-packages (1.5.2)\n",
      "Requirement already satisfied: haversine in c:\\users\\pc\\appdata\\local\\programs\\python\\python311\\lib\\site-packages (2.9.0)\n",
      "Requirement already satisfied: numpy>=1.22 in c:\\users\\pc\\appdata\\local\\programs\\python\\python311\\lib\\site-packages (from geopandas) (1.26.2)\n",
      "Requirement already satisfied: pyogrio>=0.7.2 in c:\\users\\pc\\appdata\\local\\programs\\python\\python311\\lib\\site-packages (from geopandas) (0.10.0)\n",
      "Requirement already satisfied: packaging in c:\\users\\pc\\appdata\\local\\programs\\python\\python311\\lib\\site-packages (from geopandas) (23.2)\n",
      "Requirement already satisfied: pandas>=1.4.0 in c:\\users\\pc\\appdata\\local\\programs\\python\\python311\\lib\\site-packages (from geopandas) (2.2.2)\n",
      "Requirement already satisfied: pyproj>=3.3.0 in c:\\users\\pc\\appdata\\local\\programs\\python\\python311\\lib\\site-packages (from geopandas) (3.7.1)\n",
      "Requirement already satisfied: shapely>=2.0.0 in c:\\users\\pc\\appdata\\local\\programs\\python\\python311\\lib\\site-packages (from geopandas) (2.0.7)\n",
      "Requirement already satisfied: scipy>=1.6.0 in c:\\users\\pc\\appdata\\local\\programs\\python\\python311\\lib\\site-packages (from scikit-learn) (1.14.1)\n",
      "Requirement already satisfied: joblib>=1.2.0 in c:\\users\\pc\\appdata\\local\\programs\\python\\python311\\lib\\site-packages (from scikit-learn) (1.4.2)\n",
      "Requirement already satisfied: threadpoolctl>=3.1.0 in c:\\users\\pc\\appdata\\local\\programs\\python\\python311\\lib\\site-packages (from scikit-learn) (3.5.0)\n",
      "Requirement already satisfied: python-dateutil>=2.8.2 in c:\\users\\pc\\appdata\\local\\programs\\python\\python311\\lib\\site-packages (from pandas>=1.4.0->geopandas) (2.8.2)\n",
      "Requirement already satisfied: pytz>=2020.1 in c:\\users\\pc\\appdata\\local\\programs\\python\\python311\\lib\\site-packages (from pandas>=1.4.0->geopandas) (2024.1)\n",
      "Requirement already satisfied: tzdata>=2022.7 in c:\\users\\pc\\appdata\\local\\programs\\python\\python311\\lib\\site-packages (from pandas>=1.4.0->geopandas) (2023.3)\n",
      "Requirement already satisfied: certifi in c:\\users\\pc\\appdata\\local\\programs\\python\\python311\\lib\\site-packages (from pyogrio>=0.7.2->geopandas) (2023.7.22)\n",
      "Requirement already satisfied: six>=1.5 in c:\\users\\pc\\appdata\\local\\programs\\python\\python311\\lib\\site-packages (from python-dateutil>=2.8.2->pandas>=1.4.0->geopandas) (1.16.0)\n"
     ]
    },
    {
     "name": "stderr",
     "output_type": "stream",
     "text": [
      "\n",
      "[notice] A new release of pip is available: 23.2.1 -> 25.1.1\n",
      "[notice] To update, run: python.exe -m pip install --upgrade pip\n"
     ]
    }
   ],
   "source": [
    "! pip install geopandas scikit-learn haversine\n"
   ]
  },
  {
   "cell_type": "code",
   "execution_count": null,
   "id": "6d22083e",
   "metadata": {},
   "outputs": [
    {
     "ename": "IndexError",
     "evalue": "When not in combination mode, arrays must be of same size. If mode is required, use comb=True as argument.",
     "output_type": "error",
     "traceback": [
      "\u001b[1;31m---------------------------------------------------------------------------\u001b[0m",
      "\u001b[1;31mIndexError\u001b[0m                                Traceback (most recent call last)",
      "Cell \u001b[1;32mIn[6], line 42\u001b[0m\n\u001b[0;32m     39\u001b[0m \u001b[38;5;66;03m# ---------------- 2) Feature engineering espacial ----\u001b[39;00m\n\u001b[0;32m     40\u001b[0m \u001b[38;5;66;03m# Distância ao centro de Los Angeles\u001b[39;00m\n\u001b[0;32m     41\u001b[0m la_center \u001b[38;5;241m=\u001b[39m (\u001b[38;5;241m34.05\u001b[39m, \u001b[38;5;241m-\u001b[39m\u001b[38;5;241m118.24\u001b[39m)\n\u001b[1;32m---> 42\u001b[0m gdf[\u001b[38;5;124m\"\u001b[39m\u001b[38;5;124mdist_LA_m\u001b[39m\u001b[38;5;124m\"\u001b[39m] \u001b[38;5;241m=\u001b[39m \u001b[43mhaversine_vector\u001b[49m\u001b[43m(\u001b[49m\n\u001b[0;32m     43\u001b[0m \u001b[43m        \u001b[49m\u001b[43mgdf\u001b[49m\u001b[43m[\u001b[49m\u001b[43m[\u001b[49m\u001b[38;5;124;43m\"\u001b[39;49m\u001b[38;5;124;43mlatitude\u001b[39;49m\u001b[38;5;124;43m\"\u001b[39;49m\u001b[43m,\u001b[49m\u001b[38;5;124;43m\"\u001b[39;49m\u001b[38;5;124;43mlongitude\u001b[39;49m\u001b[38;5;124;43m\"\u001b[39;49m\u001b[43m]\u001b[49m\u001b[43m]\u001b[49m\u001b[38;5;241;43m.\u001b[39;49m\u001b[43mvalues\u001b[49m\u001b[43m,\u001b[49m\n\u001b[0;32m     44\u001b[0m \u001b[43m        \u001b[49m\u001b[43m[\u001b[49m\u001b[43mla_center\u001b[49m\u001b[43m]\u001b[49m\u001b[43m,\u001b[49m\u001b[43m \u001b[49m\u001b[43mUnit\u001b[49m\u001b[38;5;241;43m.\u001b[39;49m\u001b[43mMETERS\u001b[49m\u001b[43m)\u001b[49m\n\u001b[0;32m     46\u001b[0m \u001b[38;5;66;03m# Densidade populacional aproximada (simplificada)\u001b[39;00m\n\u001b[0;32m     47\u001b[0m gdf[\u001b[38;5;124m\"\u001b[39m\u001b[38;5;124mpop_density_5k\u001b[39m\u001b[38;5;124m\"\u001b[39m] \u001b[38;5;241m=\u001b[39m gdf[\u001b[38;5;124m\"\u001b[39m\u001b[38;5;124mPopulation\u001b[39m\u001b[38;5;124m\"\u001b[39m] \u001b[38;5;241m/\u001b[39m (np\u001b[38;5;241m.\u001b[39mpi \u001b[38;5;241m*\u001b[39m \u001b[38;5;241m5\u001b[39m\u001b[38;5;241m*\u001b[39m\u001b[38;5;241m*\u001b[39m\u001b[38;5;241m2\u001b[39m)\n",
      "File \u001b[1;32mc:\\Users\\PC\\AppData\\Local\\Programs\\Python\\Python311\\Lib\\site-packages\\haversine\\haversine.py:251\u001b[0m, in \u001b[0;36mhaversine_vector\u001b[1;34m(array1, array2, unit, comb, normalize, check)\u001b[0m\n\u001b[0;32m    249\u001b[0m \u001b[38;5;28;01mif\u001b[39;00m \u001b[38;5;129;01mnot\u001b[39;00m comb:\n\u001b[0;32m    250\u001b[0m     \u001b[38;5;28;01mif\u001b[39;00m array1\u001b[38;5;241m.\u001b[39mshape \u001b[38;5;241m!=\u001b[39m array2\u001b[38;5;241m.\u001b[39mshape:\n\u001b[1;32m--> 251\u001b[0m         \u001b[38;5;28;01mraise\u001b[39;00m \u001b[38;5;167;01mIndexError\u001b[39;00m(\n\u001b[0;32m    252\u001b[0m             \u001b[38;5;124m\"\u001b[39m\u001b[38;5;124mWhen not in combination mode, arrays must be of same size. If mode is required, use comb=True as argument.\u001b[39m\u001b[38;5;124m\"\u001b[39m)\n\u001b[0;32m    254\u001b[0m \u001b[38;5;66;03m# unpack latitude/longitude\u001b[39;00m\n\u001b[0;32m    255\u001b[0m lat1, lng1 \u001b[38;5;241m=\u001b[39m array1[:, \u001b[38;5;241m0\u001b[39m], array1[:, \u001b[38;5;241m1\u001b[39m]\n",
      "\u001b[1;31mIndexError\u001b[0m: When not in combination mode, arrays must be of same size. If mode is required, use comb=True as argument."
     ]
    }
   ],
   "source": [
    "\"\"\"\n",
    "Objetivo: prever o valor médio das casas (MedHouseValue) usando:\n",
    " - variáveis socioeconômicas originais\n",
    " - features espaciais criadas a partir de lat/lon\n",
    " - validação em blocos geográficos para evitar vazamento\n",
    "\"\"\"\n",
    "# ---------------- Configuração ----------------\n",
    "import pandas as pd, geopandas as gpd, numpy as np\n",
    "from sklearn.datasets import fetch_california_housing\n",
    "from haversine import haversine_vector, Unit\n",
    "from sklearn.ensemble import RandomForestRegressor\n",
    "from spatialcv.model_selection import SpatialKFold   # bloco CV pronto\n",
    "from sklearn.metrics import mean_absolute_error\n",
    "\n",
    "# ---------------- 1) Carregar dataset ----------------\n",
    "cali = fetch_california_housing(as_frame=True)        # baixa ~1 MB:contentReference[oaicite:8]{index=8}\n",
    "df   = cali.frame\n",
    "gdf  = gpd.GeoDataFrame(df,\n",
    "        geometry = gpd.points_from_xy(df.longitude, df.latitude),\n",
    "        crs=\"EPSG:4326\")                              # CRS geográfico padrão\n",
    "\n",
    "# ---------------- 2) Feature engineering espacial ----\n",
    "# Distância ao ponto “centro de Los Angeles” como dummy POI\n",
    "la_center = (34.05, -118.24)\n",
    "gdf[\"dist_LA_m\"] = haversine_vector(\n",
    "        gdf[[\"latitude\",\"longitude\"]].values,\n",
    "        [la_center], Unit.METERS)\n",
    "\n",
    "# Densidade populacional aproximada: população / area_km2 de um buffer de 5 km\n",
    "buffer5 = gdf.to_crs(3857).buffer(5_000)             # projetamos pra métrico\n",
    "gdf[\"pop_density_5k\"] = (gdf[\"Population\"] /\n",
    "                         (np.pi*5**2))               # ~pessoas por km²\n",
    "\n",
    "# ---------------- 3) Preparar X, y --------------------\n",
    "y = gdf[\"MedHouseVal\"]\n",
    "X = gdf.drop(columns=[\"MedHouseVal\",\"geometry\"])     # mantemos numéricas\n",
    "\n",
    "# ---------------- 4) Cross-validation espacial --------\n",
    "# Divide a Califórnia em 5 blocos lat/lon equilibrados\n",
    "cv = SpatialKFold(n_splits=5, gdf=gdf, method=\"block\", size=2.5)\n",
    "\n",
    "maes = []\n",
    "for train_idx, test_idx in cv.split(gdf):\n",
    "    model = RandomForestRegressor(n_estimators=400, random_state=42)\n",
    "    model.fit(X.iloc[train_idx], y.iloc[train_idx])\n",
    "    preds = model.predict(X.iloc[test_idx])\n",
    "    maes.append(mean_absolute_error(y.iloc[test_idx], preds))\n",
    "print(f\"MAE médio com CV espacial: US$ {np.mean(maes)*100_000:,.0f}\")\n"
   ]
  }
 ],
 "metadata": {
  "kernelspec": {
   "display_name": "Python 3",
   "language": "python",
   "name": "python3"
  },
  "language_info": {
   "codemirror_mode": {
    "name": "ipython",
    "version": 3
   },
   "file_extension": ".py",
   "mimetype": "text/x-python",
   "name": "python",
   "nbconvert_exporter": "python",
   "pygments_lexer": "ipython3",
   "version": "3.11.6"
  }
 },
 "nbformat": 4,
 "nbformat_minor": 5
}
